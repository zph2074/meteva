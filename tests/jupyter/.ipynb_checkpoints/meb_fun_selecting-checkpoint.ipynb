{
 "cells": [
  {
   "cell_type": "code",
   "execution_count": 1,
   "metadata": {},
   "outputs": [],
   "source": [
    "%matplotlib inline\n",
    "%load_ext autoreload\n",
    "%autoreload 2\n",
    "import meteva.base as meb\n",
    "import pandas as pd\n",
    "import numpy as np\n",
    "import datetime\n",
    "import copy"
   ]
  },
  {
   "cell_type": "markdown",
   "metadata": {},
   "source": [
    "随机生成包含多个层次，多个时刻，多个时效，多个成员的站点数据，用于测试示例"
   ]
  },
  {
   "cell_type": "code",
   "execution_count": 2,
   "metadata": {},
   "outputs": [
    {
     "name": "stdout",
     "output_type": "stream",
     "text": [
      "    level                time  dtime     id  lon  lat  ob  grapes      ec\n",
      "0    1000 2019-12-31 08:00:00      0  54511  100   30  85      83      99\n",
      "1    1000 2019-12-31 08:00:00      0  54522  110   40  56      99      48\n",
      "2     850 2019-12-31 08:00:00      0  54511  100   30  41      83       4\n",
      "3     850 2019-12-31 08:00:00      0  54522  110   40  91      68      68\n",
      "4    1000 2020-01-01 20:00:00      0  54511  100   30  65      70       3\n",
      "5    1000 2020-01-01 20:00:00      0  54522  110   40  82      34      25\n",
      "6     850 2020-01-01 20:00:00      0  54511  100   30  11      60       9\n",
      "7     850 2020-01-01 20:00:00      0  54522  110   40  34      50      16\n",
      "8    1000 2019-12-31 08:00:00     24  54511  100   30   3      33      50\n",
      "9    1000 2019-12-31 08:00:00     24  54522  110   40  41       2      99\n",
      "10    850 2019-12-31 08:00:00     24  54511  100   30  80      30  999999\n",
      "11    850 2019-12-31 08:00:00     24  54522  110   40  24      27  999999\n",
      "12   1000 2020-01-01 20:00:00     24  54511  100   30  90       3  999999\n",
      "13   1000 2020-01-01 20:00:00     24  54522  110   40  54       7      83\n",
      "14    850 2020-01-01 20:00:00     24  54511  100   30  69       9      89\n",
      "15    850 2020-01-01 20:00:00     24  54522  110   40  74      70      18\n"
     ]
    }
   ],
   "source": [
    "data = {\"id\":[54511,54522],\"lon\":[100,110],\"lat\":[30,40],\"ob\":[0,0],\"grapes\":[0,0],\"ec\":[0,0],}\n",
    "df = pd.DataFrame(data)\n",
    "sta = meb.sta_data(df)\n",
    "meb.set_stadata_coords(sta,level = 1000,time = datetime.datetime(2019,12,31,8,0),dtime = 0)\n",
    "sta1 = copy.deepcopy(sta)\n",
    "meb.set_stadata_coords(sta1,level = 850)\n",
    "sta = meb.combine_join(sta,sta1)\n",
    "sta1 = copy.deepcopy(sta)\n",
    "meb.set_stadata_coords(sta1,time = datetime.datetime(2020,1,1,20,0))\n",
    "sta = meb.combine_join(sta,sta1)\n",
    "sta1 = copy.deepcopy(sta)\n",
    "meb.set_stadata_coords(sta1,dtime = 24)\n",
    "sta_all = meb.combine_join(sta,sta1)\n",
    "sta_all.iloc[:,-3:] = (np.random.rand(16,3)*100).astype(np.int16)\n",
    "sta_all.iloc[10:13,-1] = meb.IV\n",
    "print(sta_all)"
   ]
  },
  {
   "cell_type": "markdown",
   "metadata": {},
   "source": [
    "# 通过综合字典选取数据  \n",
    "**sele_by_dict(data,s):**   \n",
    "通过包含多个维度选项的字典型参数，来确定所要选取的数据的范围，返回相应的数据样本。该函数和下文中sele_by_para函数是一一对应的，只是用于选择数据的参数形式以字典的形式统一成一个参数。\n",
    "   \n",
    "**参数说明：**  \n",
    " **data**: [站点数据](https://www.showdoc.cc/nmc?page_id=3744334022014027)        \n",
    " **s**: 字典型变量,字典的关键次为字符串，可选项和下文中sele_by_para的选取参数一一对应。具体请参见下文    \n",
    " **return**: [站点数据](https://www.showdoc.cc/nmc?page_id=3744334022014027)               \n",
    "\n",
    "**调用示例**\n"
   ]
  },
  {
   "cell_type": "code",
   "execution_count": 3,
   "metadata": {},
   "outputs": [
    {
     "name": "stdout",
     "output_type": "stream",
     "text": [
      "    level                time  dtime     id  lon  lat  ob      ec\n",
      "8    1000 2019-12-31 08:00:00     24  54511  100   30   3      50\n",
      "9    1000 2019-12-31 08:00:00     24  54522  110   40  41      99\n",
      "12   1000 2020-01-01 20:00:00     24  54511  100   30  90  999999\n",
      "13   1000 2020-01-01 20:00:00     24  54522  110   40  54      83\n"
     ]
    }
   ],
   "source": [
    "sta = meb.sele_by_dict(sta_all,s = {\"level\":1000,\"dtime\":24,\"member\":[\"ob\",\"ec\"]}) \n",
    "print(sta) "
   ]
  },
  {
   "cell_type": "code",
   "execution_count": 4,
   "metadata": {},
   "outputs": [
    {
     "name": "stdout",
     "output_type": "stream",
     "text": [
      "    level                time  dtime     id  lon  lat  ob      ec\n",
      "8    1000 2019-12-31 08:00:00     24  54511  100   30   3      50\n",
      "9    1000 2019-12-31 08:00:00     24  54522  110   40  41      99\n",
      "12   1000 2020-01-01 20:00:00     24  54511  100   30  90  999999\n",
      "13   1000 2020-01-01 20:00:00     24  54522  110   40  54      83\n"
     ]
    }
   ],
   "source": [
    "#上述示例等价于\n",
    "sta = meb.sele_by_para(sta_all,level=1000,dtime=24,member =[\"ob\",\"ec\"]) \n",
    "print(sta)"
   ]
  },
  {
   "cell_type": "markdown",
   "metadata": {},
   "source": [
    "#  通过参数提取部分数据   \n",
    "**sele_by_para(data,member = None,level = None,time = None,time_range = None,year = None,month = None,day = None,dayofyear = None,hour = None,ob_time=None, ob_time_range=None, ob_year=None, ob_month=None, ob_day=None, ob_dayofyear=None, ob_hour=None,dtime = None,dtime_range = None,dday = None, dhour = None,lon = None,lat = None,id = None,gxy = None,gxyz = None,stadata = None,value = None,drop_IV = False,last = None,last_range = None)**   \n",
    "从网格和站点数据中提取部分数据\n",
    "\n",
    "|**参数**|   说明|  \n",
    "|:-|:-----|  \n",
    "|  **data**|[站点数据](https://www.showdoc.cc/nmc?page_id=3744334022014027)  |\n",
    "|  **member**|        成员的名称，同时提取多个时采用列表形式  |\n",
    "|  **level**|        层次的名称，同时提取多个时采用列表形式  |\n",
    "|  **time**|         时间（以起报时刻为准），可以是datetime,datetime64或“2019010108”类似的字符串形式，同时提取多个时采用列表形式  |\n",
    "|  **time_range**|    时间范围，列表形式，第一个元素为起始时间，第二个为结束时间，时间可以是datetime,datetime64或“2019010108”类似的字符串形式  |\n",
    "|  **year**|         要提取的数据的年份（以起报时刻为准），同时提取多个时采用列表形式  |\n",
    "|  **month**|        要提取的数据的月份（以起报时刻为准），同时提取多个时采用列表形式  |\n",
    "|  **day**|          要提取的数据的日期（以起报时刻为准），可以是datetime,datetime64或“20190101”类似的字符串形式，同时提取多个时采用列表形式  |\n",
    "|  **dayofyear**|     要提取的数据在一年中的排序（以起报时刻为准），整数形式，同时提取多个时采用列表形式  |\n",
    "|  **hour**|         要提取的数据的小时数（以起报时刻为准），0-23的整数，同时提取多个时采用列表形式  |\n",
    "|  **ob_time**|      时间（以观测时刻为准），可以是datetime,datetime64或“2019010108”类似的字符串形式，同时提取多个时采用列表形式  |\n",
    "|  **ob_time_range**|  观测时间范围，列表形式，第一个元素为起始时间，第二个为结束时间，时间可以是datetime,datetime64或  “2019010108”类似的字符串形式|\n",
    "|  **ob_year**|      要提取的数据的年份（以观测时刻为准），同时提取多个时采用列表形式 | \n",
    "|  **ob_month**|     要提取的数据的月份（以观测时刻为准），同时提取多个时采用列表形式  |\n",
    "|  **ob_day**|       要提取的数据的日期（以观测时刻为准），可以是datetime,datetime64或“20190101”类似的字符串形式，同时提取多个时采用列表形式  |\n",
    "|  **ob_dayofyear**|  要提取的数据在一年中的排序（以观测时刻为准），整数形式，同时提取多个时采用列表形式  |\n",
    "|  **ob_hour**|      要提取的数据的小时数（以观测时刻为准），0-23的整数，同时提取多个时采用列表形式  |\n",
    "|  **dtime**|        要提取的数据的时效，整数形式，同时提取多个是采用列表形式  ||\n",
    "|  **dtime_range**|    时间范围，列表形式，第一个元素为起始时效，第二个为结束时效  |\n",
    "|  **dday**|         要提取的数据的时效dtime整除以24的值，整数形式，同时提取多个时采用列表形式  |\n",
    "|  **dhour**|        要提取的数据的时效dtime除24的余数，整数形式，同时提取多个时采用列表形式  |\n",
    "|  **lon**|          要提取的数据的经度范围，列表形式，第一个元素为起始经度，第二个为结束经度  |\n",
    "|  **lat**|         要提取的数据的纬度范围，列表形式，第一个元素为起始经度，第二个为结束经度  |\n",
    "|  **id**|          要提取的数据的站号，同时提取多个是采用列表形式  |\n",
    "|  **grid**|       [网格信息类](https://www.showdoc.cc/meteva?page_id=3975600815874861)变量，提取多维矩形网格范围内的数据，grid中size>1的维度的坐标范围会被用作选择的已经，size=1的维度会被忽略 | \n",
    "|  **gxy**|        [网格信息类](https://www.showdoc.cc/meteva?page_id=3975600815874861),采用其中经纬度范围提取水平矩形网格范围内的数据  |\n",
    "|  **gxyz**|       [网格信息类](https://www.showdoc.cc/meteva?page_id=3975600815874861),采用其中经纬度和层次范围提取三维矩形网格范围内的数据   |\n",
    "|  **stadata**|     [站点数据](https://www.showdoc.cc/nmc?page_id=3744334022014027), 对于stadata中level，time，dtime，id四个坐标中非缺省的部分，从data中提取和stadata坐标一致的站点数据  |\n",
    "|  **value**|      提取所有数据列都在给定取值范围的数据，列表形式第一个元素为数据最低值，第二个为数据最高值  |\n",
    "|  **drop_IV**|     该参数为True时，删除包含缺省值的行  |\n",
    "|  **last**|       取出最后一列包含last的行，如何选择多个类型，last采用列表形式，并删除最后一列的数据  |\n",
    "|  **last_range**|   包含起始值和结束值的列表，取出最后一列取值在该取值范围的数据，并删除最后一列的数据  |\n",
    "|  **<font face=\"黑体\" color=blue size=3>return**</font>|     [站点数据](https://www.showdoc.cc/nmc?page_id=3744334022014027)  |\n",
    "  \n",
    "**调用示例**"
   ]
  },
  {
   "cell_type": "code",
   "execution_count": 5,
   "metadata": {},
   "outputs": [
    {
     "name": "stdout",
     "output_type": "stream",
     "text": [
      "    level                time  dtime     id  lon  lat  grapes\n",
      "0    1000 2019-12-31 08:00:00      0  54511  100   30      83\n",
      "1    1000 2019-12-31 08:00:00      0  54522  110   40      99\n",
      "2     850 2019-12-31 08:00:00      0  54511  100   30      83\n",
      "3     850 2019-12-31 08:00:00      0  54522  110   40      68\n",
      "4    1000 2020-01-01 20:00:00      0  54511  100   30      70\n",
      "5    1000 2020-01-01 20:00:00      0  54522  110   40      34\n",
      "6     850 2020-01-01 20:00:00      0  54511  100   30      60\n",
      "7     850 2020-01-01 20:00:00      0  54522  110   40      50\n",
      "8    1000 2019-12-31 08:00:00     24  54511  100   30      33\n",
      "9    1000 2019-12-31 08:00:00     24  54522  110   40       2\n",
      "10    850 2019-12-31 08:00:00     24  54511  100   30      30\n",
      "11    850 2019-12-31 08:00:00     24  54522  110   40      27\n",
      "12   1000 2020-01-01 20:00:00     24  54511  100   30       3\n",
      "13   1000 2020-01-01 20:00:00     24  54522  110   40       7\n",
      "14    850 2020-01-01 20:00:00     24  54511  100   30       9\n",
      "15    850 2020-01-01 20:00:00     24  54522  110   40      70\n"
     ]
    }
   ],
   "source": [
    "sta = meb.sele_by_para(sta_all,member = [\"grapes\"])  #提取单个成员的数据\n",
    "print(sta)  "
   ]
  },
  {
   "cell_type": "code",
   "execution_count": 6,
   "metadata": {},
   "outputs": [
    {
     "name": "stdout",
     "output_type": "stream",
     "text": [
      "    level                time  dtime     id  lon  lat  ob      ec\n",
      "0    1000 2019-12-31 08:00:00      0  54511  100   30  85      99\n",
      "1    1000 2019-12-31 08:00:00      0  54522  110   40  56      48\n",
      "2     850 2019-12-31 08:00:00      0  54511  100   30  41       4\n",
      "3     850 2019-12-31 08:00:00      0  54522  110   40  91      68\n",
      "4    1000 2020-01-01 20:00:00      0  54511  100   30  65       3\n",
      "5    1000 2020-01-01 20:00:00      0  54522  110   40  82      25\n",
      "6     850 2020-01-01 20:00:00      0  54511  100   30  11       9\n",
      "7     850 2020-01-01 20:00:00      0  54522  110   40  34      16\n",
      "8    1000 2019-12-31 08:00:00     24  54511  100   30   3      50\n",
      "9    1000 2019-12-31 08:00:00     24  54522  110   40  41      99\n",
      "10    850 2019-12-31 08:00:00     24  54511  100   30  80  999999\n",
      "11    850 2019-12-31 08:00:00     24  54522  110   40  24  999999\n",
      "12   1000 2020-01-01 20:00:00     24  54511  100   30  90  999999\n",
      "13   1000 2020-01-01 20:00:00     24  54522  110   40  54      83\n",
      "14    850 2020-01-01 20:00:00     24  54511  100   30  69      89\n",
      "15    850 2020-01-01 20:00:00     24  54522  110   40  74      18\n"
     ]
    }
   ],
   "source": [
    "sta = meb.sele_by_para(sta_all,member = [\"ob\",\"ec\"])  #提取多个成员的数据\n",
    "print(sta)  "
   ]
  },
  {
   "cell_type": "code",
   "execution_count": 7,
   "metadata": {},
   "outputs": [
    {
     "name": "stdout",
     "output_type": "stream",
     "text": [
      "    level                time  dtime     id  lon  lat  ob  grapes      ec\n",
      "0    1000 2019-12-31 08:00:00      0  54511  100   30  85      83      99\n",
      "1    1000 2019-12-31 08:00:00      0  54522  110   40  56      99      48\n",
      "4    1000 2020-01-01 20:00:00      0  54511  100   30  65      70       3\n",
      "5    1000 2020-01-01 20:00:00      0  54522  110   40  82      34      25\n",
      "8    1000 2019-12-31 08:00:00     24  54511  100   30   3      33      50\n",
      "9    1000 2019-12-31 08:00:00     24  54522  110   40  41       2      99\n",
      "12   1000 2020-01-01 20:00:00     24  54511  100   30  90       3  999999\n",
      "13   1000 2020-01-01 20:00:00     24  54522  110   40  54       7      83\n"
     ]
    }
   ],
   "source": [
    "sta = meb.sele_by_para(sta_all,level = 1000)  #提取指定层数据\n",
    "print(sta)"
   ]
  },
  {
   "cell_type": "code",
   "execution_count": 8,
   "metadata": {},
   "outputs": [
    {
     "name": "stdout",
     "output_type": "stream",
     "text": [
      "    level                time  dtime     id  lon  lat  ob  grapes      ec\n",
      "0    1000 2019-12-31 08:00:00      0  54511  100   30  85      83      99\n",
      "1    1000 2019-12-31 08:00:00      0  54522  110   40  56      99      48\n",
      "2     850 2019-12-31 08:00:00      0  54511  100   30  41      83       4\n",
      "3     850 2019-12-31 08:00:00      0  54522  110   40  91      68      68\n",
      "8    1000 2019-12-31 08:00:00     24  54511  100   30   3      33      50\n",
      "9    1000 2019-12-31 08:00:00     24  54522  110   40  41       2      99\n",
      "10    850 2019-12-31 08:00:00     24  54511  100   30  80      30  999999\n",
      "11    850 2019-12-31 08:00:00     24  54522  110   40  24      27  999999\n"
     ]
    }
   ],
   "source": [
    "sta = meb.sele_by_para(sta_all,time = \"2019123108\")  #提取指定起报时刻数据\n",
    "print(sta)"
   ]
  },
  {
   "cell_type": "code",
   "execution_count": 13,
   "metadata": {},
   "outputs": [
    {
     "name": "stdout",
     "output_type": "stream",
     "text": [
      "    level                time  dtime     id  lon  lat  ob  grapes      ec\n",
      "0    1000 2019-12-31 08:00:00      0  54511  100   30  85      83      99\n",
      "1    1000 2019-12-31 08:00:00      0  54522  110   40  56      99      48\n",
      "2     850 2019-12-31 08:00:00      0  54511  100   30  41      83       4\n",
      "3     850 2019-12-31 08:00:00      0  54522  110   40  91      68      68\n",
      "8    1000 2019-12-31 08:00:00     24  54511  100   30   3      33      50\n",
      "9    1000 2019-12-31 08:00:00     24  54522  110   40  41       2      99\n",
      "10    850 2019-12-31 08:00:00     24  54511  100   30  80      30  999999\n",
      "11    850 2019-12-31 08:00:00     24  54522  110   40  24      27  999999\n"
     ]
    }
   ],
   "source": [
    "sta = meb.sele_by_para(sta_all,day = \"20191231\")  #提取指定起报日期\n",
    "print(sta)"
   ]
  },
  {
   "cell_type": "code",
   "execution_count": null,
   "metadata": {},
   "outputs": [],
   "source": [
    "sta = meb.sele_by_para(sta_all,year = 2020)  #提取指定起报年份数据\n",
    "print(sta)"
   ]
  },
  {
   "cell_type": "code",
   "execution_count": null,
   "metadata": {},
   "outputs": [],
   "source": [
    "sta = meb.sele_by_para(sta_all,ob_year = 2020) #提取起报时刻+预报时效对应的观测时刻为指定年份的数据\n",
    "print(sta)"
   ]
  },
  {
   "cell_type": "code",
   "execution_count": null,
   "metadata": {},
   "outputs": [],
   "source": [
    "sta = meb.sele_by_para(sta_all,dtime = 24) #提取指定时效数据\n",
    "print(sta)"
   ]
  },
  {
   "cell_type": "code",
   "execution_count": null,
   "metadata": {},
   "outputs": [],
   "source": [
    "sta = meb.sele_by_para(sta_all,dtime_range = [0,24]) #提取指定时效范围的数据\n",
    "print(sta)"
   ]
  },
  {
   "cell_type": "code",
   "execution_count": null,
   "metadata": {},
   "outputs": [],
   "source": [
    "sta = meb.sele_by_para(sta_all,dday = 1) #提取时效>=1天 且 < 2天的数据\n",
    "print(sta)"
   ]
  },
  {
   "cell_type": "code",
   "execution_count": null,
   "metadata": {},
   "outputs": [],
   "source": [
    "sta = meb.sele_by_para(sta_all,dhour = 0) #时效 % 1天的余数为0 的数据\n",
    "print(sta)"
   ]
  },
  {
   "cell_type": "code",
   "execution_count": null,
   "metadata": {},
   "outputs": [],
   "source": [
    "sta = meb.sele_by_para(sta_all,id = 54511) #提取指定站点数据\n",
    "print(sta)"
   ]
  },
  {
   "cell_type": "code",
   "execution_count": null,
   "metadata": {},
   "outputs": [],
   "source": [
    "sta = meb.sele_by_para(sta_all,drop_IV=True) #删除包含缺省值的数据\n",
    "print(sta)"
   ]
  },
  {
   "cell_type": "code",
   "execution_count": null,
   "metadata": {},
   "outputs": [],
   "source": [
    "sta = meb.sele_by_para(sta_all,value=[20,80]) #删除包含缺省值的数据\n",
    "print(sta)"
   ]
  },
  {
   "cell_type": "code",
   "execution_count": null,
   "metadata": {},
   "outputs": [],
   "source": [
    "grid1 = meb.grid([100,105,1],[30,35,1],level_list=[925,700]) #grid1中有三个纬度size>1\n",
    "sta = meb.sele_by_para(sta_all,grid = grid1)    #选择指定网格范围内的数据，\n",
    "print(sta)"
   ]
  },
  {
   "cell_type": "code",
   "execution_count": null,
   "metadata": {},
   "outputs": [],
   "source": [
    "sta = meb.sele_by_para(sta_all,gxy = grid1)   #仅采用grid1中水平方向的范围进行过滤\n",
    "print(sta)"
   ]
  },
  {
   "cell_type": "code",
   "execution_count": null,
   "metadata": {},
   "outputs": [],
   "source": [
    "sta = meb.sele_by_para(sta_all,gxyz = grid1)  #采用三维空间方向进行过滤\n",
    "print(sta)"
   ]
  },
  {
   "cell_type": "code",
   "execution_count": null,
   "metadata": {},
   "outputs": [],
   "source": [
    "loc =pd.DataFrame({\"time\":[datetime.datetime(2019,12,31,8),datetime.datetime(2020,1,1,20)],\"id\":[54511,54522]}) \n",
    "print(loc) #试验不同日期选择不同站点的方式"
   ]
  },
  {
   "cell_type": "code",
   "execution_count": null,
   "metadata": {},
   "outputs": [],
   "source": [
    "sta_loc = meb.sta_data(loc) \n",
    "print(sta_loc)  #要选择的站点序列，它在19年12月31日08时提取54511站，在1月1日20时提取54522站，level和dtime维度不做区分"
   ]
  },
  {
   "cell_type": "code",
   "execution_count": null,
   "metadata": {},
   "outputs": [],
   "source": [
    "sta = meb.sele_by_para(sta_all,stadata = sta_loc)  # 19年12月31日08时和54511和1月1日20时54522站的所有层次和时效数据被提取\n",
    "print(sta)"
   ]
  },
  {
   "cell_type": "markdown",
   "metadata": {},
   "source": [
    "如果数据选择的依据完全不基于level，time，dtime，id，lon，lat等时空坐标，比如以站点高度，下垫面类型作为选择依据时上述方法都无法涵盖，更有甚者如果我们选择涡度散度水汽条件这些条件来作为选择的依据，则这个判据是随所有的时空坐标的是变化的，此时就要用到lastR或lastL参数，方法如下。"
   ]
  },
  {
   "cell_type": "code",
   "execution_count": null,
   "metadata": {},
   "outputs": [],
   "source": [
    "sta_all[\"div\"] = (np.random.randn(16) * 100).astype(np.int16)  \n",
    "sta_all.iloc[0,-1] = 0\n",
    "sta_all.iloc[1,-1] = 100\n",
    "print(sta_all) # 首先我们需要在数据的最后一列增加一列，这一列是你选择的依据，它可以是散点，涡度，下垫面类型等等"
   ]
  },
  {
   "cell_type": "code",
   "execution_count": null,
   "metadata": {},
   "outputs": [],
   "source": [
    "sta = meb.sele_by_para(sta_all,last=[0,100]) \n",
    "print(sta) #选择最后一列取值在为0或100的数据，并删除最后一列，如果div代表下垫面类型，采用这种方式可以选择指定下垫面类型的数据"
   ]
  },
  {
   "cell_type": "code",
   "execution_count": null,
   "metadata": {},
   "outputs": [],
   "source": [
    "sta = meb.sele_by_para(sta_all,last_range=[0,100]) \n",
    "print(sta) #选择最后一列取值在0到100范围的数据，并删除最后一列，如果div代表散度，则该方法相当于选择了所有散度在该范围的数据"
   ]
  },
  {
   "cell_type": "code",
   "execution_count": null,
   "metadata": {},
   "outputs": [],
   "source": [
    "sta = meb.sele_by_para(sta_all,level = 1000,dtime=24,member = [\"ob\",\"ec\"]) \n",
    "print(sta)  #以上所有参数也可组合使用"
   ]
  },
  {
   "cell_type": "code",
   "execution_count": null,
   "metadata": {},
   "outputs": [],
   "source": []
  }
 ],
 "metadata": {
  "kernelspec": {
   "display_name": "Python 3",
   "language": "python",
   "name": "python3"
  },
  "language_info": {
   "codemirror_mode": {
    "name": "ipython",
    "version": 3
   },
   "file_extension": ".py",
   "mimetype": "text/x-python",
   "name": "python",
   "nbconvert_exporter": "python",
   "pygments_lexer": "ipython3",
   "version": "3.7.6"
  }
 },
 "nbformat": 4,
 "nbformat_minor": 2
}
