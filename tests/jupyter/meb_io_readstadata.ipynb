{
 "cells": [
  {
   "cell_type": "code",
   "execution_count": 1,
   "metadata": {},
   "outputs": [],
   "source": [
    "%matplotlib inline\n",
    "%load_ext autoreload\n",
    "%autoreload 2\n",
    "import meteva.base as meb\n",
    "import numpy as np\n",
    "import datetime\n",
    "import pandas as pd"
   ]
  },
  {
   "cell_type": "markdown",
   "metadata": {},
   "source": [
    "### 读取站点文件  \n",
    "**read_station(filename)**  \n",
    "从micaps第1、2、3、8类数据文件中读取站点表，它是一个站点形式的数据。  \n",
    "\n",
    "**参数说明：**  \n",
    " **filename**: 数据文件名，站点文件路径，它可以是micaps第1、2、3、8类文件        \n",
    " **return**: [站点数据](https://www.showdoc.cc/meteva?page_id=3975600580125986)，其中time,dtime,level属性为设置的缺省值，数据内容都设置为0   \n",
    "\n",
    "\n",
    "**调用示例**"
   ]
  },
  {
   "cell_type": "code",
   "execution_count": 2,
   "metadata": {
    "scrolled": true
   },
   "outputs": [
    {
     "name": "stdout",
     "output_type": "stream",
     "text": [
      "      level                time  dtime     id         lon        lat  data0\n",
      "0         0 2099-01-01 08:00:00      0  45001  114.016667  22.200000      0\n",
      "1         0 2099-01-01 08:00:00      0  45004  114.166667  22.316667      0\n",
      "2         0 2099-01-01 08:00:00      0  45005  114.166667  22.300000      0\n",
      "3         0 2099-01-01 08:00:00      0  45007  114.200000  22.316667      0\n",
      "4         0 2099-01-01 08:00:00      0  45009  114.300000  22.183333      0\n",
      "...     ...                 ...    ...    ...         ...        ...    ...\n",
      "2512      0 2099-01-01 08:00:00      0  59985  111.616667  16.533333      0\n",
      "2513      0 2099-01-01 08:00:00      0  59995  112.883333   9.383333      0\n",
      "2514      0 2099-01-01 08:00:00      0  59997  114.366667  10.383333      0\n",
      "2515      0 2099-01-01 08:00:00      0  51747   83.666667  39.000000      0\n",
      "2516      0 2099-01-01 08:00:00      0  52974  102.016667  35.516667      0\n",
      "\n",
      "[2517 rows x 7 columns]\n"
     ]
    }
   ],
   "source": [
    "station = meb.read_station(r\"H:\\resource\\infomation-dat\\sta2513.dat\")  #读取micaps16类文件获取站点\n",
    "print(station)"
   ]
  },
  {
   "cell_type": "code",
   "execution_count": 3,
   "metadata": {},
   "outputs": [
    {
     "name": "stdout",
     "output_type": "stream",
     "text": [
      "      level                time  dtime     id     lon    lat  data0\n",
      "0         0 2099-01-01 08:00:00      0  50136  122.52  52.97      0\n",
      "1         0 2099-01-01 08:00:00      0  50137  122.37  53.47      0\n",
      "2         0 2099-01-01 08:00:00      0  50246  124.72  52.35      0\n",
      "3         0 2099-01-01 08:00:00      0  50247  123.57  52.03      0\n",
      "4         0 2099-01-01 08:00:00      0  50349  124.40  51.67      0\n",
      "...     ...                 ...    ...    ...     ...    ...    ...\n",
      "2406      0 2099-01-01 08:00:00      0  59945  109.70  18.65      0\n",
      "2407      0 2099-01-01 08:00:00      0  59948  109.58  18.22      0\n",
      "2408      0 2099-01-01 08:00:00      0  59951  110.33  18.80      0\n",
      "2409      0 2099-01-01 08:00:00      0  59954  110.03  18.55      0\n",
      "2410      0 2099-01-01 08:00:00      0  59981  112.33  16.83      0\n",
      "\n",
      "[2411 rows x 7 columns]\n"
     ]
    }
   ],
   "source": [
    "#meb.station_国家站是程序库中内置的micaps3类文件的路径名\n",
    "station = meb.read_station(meb.station_国家站)  #读取micaps3类文件获取站点，print(meb.station_国家站)\n",
    "print(station)"
   ]
  },
  {
   "cell_type": "markdown",
   "metadata": {},
   "source": [
    "### 读取micaps3数据\n",
    "**read_stadata_from_micaps3(filename, station=None, level=None, time=None, dtime=None, data_name='data0', drop_same_id=True)**  \n",
    "从micaps第3类数据文件中读取站点数据  \n",
    "\n",
    "**参数说明：**  \n",
    " **filename**: 数据文件名   \n",
    " **station**:  [站点数据](https://www.showdoc.cc/meteva?page_id=3975600580125986)， 从文件读取到数据后，会按station变量里的站点顺序重新排列，文件中存在而station里不存在的站点将被删除，station里存在但文件中不存在的站点上的取值采用station里的原始值， id,lon,lat,alt共4个列的数据会采用station里的值    \n",
    " **level**: 层次，如果该参数不为None，返回的站点数据中level列设置为该参数值，否则根据文件内容设置     \n",
    " **time**: 时间，如果该参数不为None，返回的站点数据中time列设置为该参数值，否则根据文件内容设置      \n",
    " **dtime**: 时效，如果该参数不为None，返回的站点数据中dtime列设置为该参数值，否则设0  \n",
    " **data_name** : 返回的站点数据的数据列的名称将设置为data_name  \n",
    " **drop_same_id**: 在一些文件中，有些站号的id是相同的，默认情况下仅保留1个站点的结果，如果drop_same_id = False时则会全部保留。  \n",
    " **return**: [站点数据](https://www.showdoc.cc/meteva?page_id=3975600580125986)  \n",
    "\n",
    "\n",
    "**调用示例**"
   ]
  },
  {
   "cell_type": "code",
   "execution_count": 4,
   "metadata": {},
   "outputs": [
    {
     "name": "stdout",
     "output_type": "stream",
     "text": [
      "     level                time  dtime     id     lon    lat  data0\n",
      "0        0 2020-01-03 20:00:00      0  57671  112.37  28.85    1.3\n",
      "1        0 2020-01-03 20:00:00      0  57845  109.78  26.17    5.4\n",
      "2        0 2020-01-03 20:00:00      0  57466  111.75  30.46    0.1\n",
      "3        0 2020-01-03 20:00:00      0  57842  109.72  26.88    0.8\n",
      "4        0 2020-01-03 20:00:00      0  57584  113.09  29.38    1.3\n",
      "..     ...                 ...    ...    ...     ...    ...    ...\n",
      "561      0 2020-01-03 20:00:00      0  57589  113.88  29.27    2.2\n",
      "562      0 2020-01-03 20:00:00      0  57583  113.97  29.92    4.2\n",
      "563      0 2020-01-03 20:00:00      0  55690   91.95  27.98    2.3\n",
      "564      0 2020-01-03 20:00:00      0  55597   91.68  29.03    0.0\n",
      "565      0 2020-01-03 20:00:00      0  56434   97.47  28.67    0.2\n",
      "\n",
      "[566 rows x 7 columns]\n"
     ]
    }
   ],
   "source": [
    "filename = r\"H:\\test_data\\input\\meb\\m3.txt\"\n",
    "sta = meb.read_stadata_from_micaps3(filename)  #在其他参数缺省的情况下，站点列表、时间和层次信息均根据文件内容设置,时效设置为0\n",
    "print(sta)"
   ]
  },
  {
   "cell_type": "code",
   "execution_count": 5,
   "metadata": {},
   "outputs": [
    {
     "name": "stdout",
     "output_type": "stream",
     "text": [
      "      level                time  dtime     id     lon    lat  data0\n",
      "0       850 2019-12-31 08:00:00     24  50136  122.52  52.97    0.0\n",
      "1       850 2019-12-31 08:00:00     24  50137  122.37  53.47    0.0\n",
      "2       850 2019-12-31 08:00:00     24  50246  124.72  52.35    0.0\n",
      "3       850 2019-12-31 08:00:00     24  50247  123.57  52.03    0.0\n",
      "4       850 2019-12-31 08:00:00     24  50349  124.40  51.67    0.0\n",
      "...     ...                 ...    ...    ...     ...    ...    ...\n",
      "2406    850 2019-12-31 08:00:00     24  59945  109.70  18.65    0.0\n",
      "2407    850 2019-12-31 08:00:00     24  59948  109.58  18.22    0.0\n",
      "2408    850 2019-12-31 08:00:00     24  59951  110.33  18.80    0.0\n",
      "2409    850 2019-12-31 08:00:00     24  59954  110.03  18.55    0.0\n",
      "2410    850 2019-12-31 08:00:00     24  59981  112.33  16.83    0.0\n",
      "\n",
      "[2411 rows x 7 columns]\n"
     ]
    }
   ],
   "source": [
    "sta = meb.read_stadata_from_micaps3(filename,station = station,time = \"2019123108\",dtime = 24,level = 850)\n",
    "print(sta)  # 更加参数设置了站点列表、时间、时效和层次信息"
   ]
  },
  {
   "cell_type": "markdown",
   "metadata": {},
   "source": [
    "### 读取micaps1、micaps2、micaps8数据\n",
    "**read_stadata_from_micaps1_2_8(filename,column, station=None, level=None, time=None, dtime=None, data_name='data0', drop_same_id=True)**  \n",
    "从micaps第3类数据文件中读取站点数据  \n",
    "\n",
    "**参数说明：**  \n",
    " **filename**: 数据文件名   \n",
    " **column**:  读取数据中的第column列作为返回站点数据的内容    \n",
    " **station**:  [站点数据](https://www.showdoc.cc/meteva?page_id=3975600580125986)， 从文件读取到数据后，会按station变量里的站点顺序重新排列，文件中存在而station里不存在的站点将被删除，station里存在但文件中不存在的站点上的取值采用station里的原始值， id,lon,lat,alt共4个列的数据会采用station里的值    \n",
    " **level**: 层次，如果该参数不为None，返回的站点数据中level列设置为该参数值，否则根据文件内容设置     \n",
    " **time**: 时间，如果该参数不为None，返回的站点数据中time列设置为该参数值，否则根据文件内容设置      \n",
    " **dtime**: 时效，如果该参数不为None，返回的站点数据中dtime列设置为该参数值，否则设0  \n",
    " **data_name** : 返回的站点数据的数据列的名称将设置为data_name  \n",
    " **drop_same_id**: 在一些文件中，有些站号的id是相同的，默认情况下仅保留1个站点的结果，如果drop_same_id = False时则会全部保留。  \n",
    " **return**: [站点数据](https://www.showdoc.cc/meteva?page_id=3975600580125986)\n",
    "\n",
    "\n",
    "**调用示例**"
   ]
  },
  {
   "cell_type": "code",
   "execution_count": 6,
   "metadata": {},
   "outputs": [
    {
     "name": "stdout",
     "output_type": "stream",
     "text": [
      "      level                time  dtime     id     lon    lat      data0\n",
      "0         0 2018-08-01 08:00:00      0   1009   89.49   3.99  27.900000\n",
      "2         0 2018-08-01 08:00:00      0  29645   86.22  55.25   8.100000\n",
      "3         0 2018-08-01 08:00:00      0  28593   74.63  56.10  15.100000\n",
      "5         0 2018-08-01 08:00:00      0  36022   80.33  52.02   9.500000\n",
      "6         0 2018-08-01 08:00:00      0  29209   77.22  57.81  11.000000\n",
      "...     ...                 ...    ...    ...     ...    ...        ...\n",
      "4072      0 2018-08-01 08:00:00      0  48679  103.67   1.63  24.400000\n",
      "4073      0 2018-08-01 08:00:00      0  16364   16.37  38.76  18.400000\n",
      "4074      0 2018-08-01 08:00:00      0  16415   14.87  38.58  24.100000\n",
      "4075      0 2018-08-01 08:00:00      0  16081    9.26  45.46  26.700001\n",
      "4076      0 2018-08-01 08:00:00      0  16314   16.66  40.68  22.900000\n",
      "\n",
      "[3999 rows x 7 columns]\n"
     ]
    }
   ],
   "source": [
    "filename = r\"H:\\test_data\\input\\meb\\m1.txt\"\n",
    "sta = meb.read_stadata_from_micaps1_2_8(filename,meb.m1_element_column_dict[\"温度\"]) \n",
    "# meb.m1_element_column_dict[\"温度\"] 是micaps1文件中温度所对应的列序号\n",
    "print(sta)"
   ]
  },
  {
   "cell_type": "code",
   "execution_count": 7,
   "metadata": {},
   "outputs": [
    {
     "name": "stdout",
     "output_type": "stream",
     "text": [
      "      level                time  dtime     id     lon    lat  data0\n",
      "0         0 2019-01-01 08:00:00      0  50136  122.52  52.97   14.0\n",
      "1         0 2019-01-01 08:00:00      0  50137  122.37  53.47    0.0\n",
      "2         0 2019-01-01 08:00:00      0  50246  124.72  52.35   15.9\n",
      "3         0 2019-01-01 08:00:00      0  50247  123.57  52.03   12.4\n",
      "4         0 2019-01-01 08:00:00      0  50349  124.40  51.67   14.4\n",
      "...     ...                 ...    ...    ...     ...    ...    ...\n",
      "2406      0 2019-01-01 08:00:00      0  59945  109.70  18.65    0.0\n",
      "2407      0 2019-01-01 08:00:00      0  59948  109.58  18.22   25.6\n",
      "2408      0 2019-01-01 08:00:00      0  59951  110.33  18.80    0.0\n",
      "2409      0 2019-01-01 08:00:00      0  59954  110.03  18.55   25.6\n",
      "2410      0 2019-01-01 08:00:00      0  59981  112.33  16.83   29.9\n",
      "\n",
      "[2411 rows x 7 columns]\n"
     ]
    }
   ],
   "source": [
    "filename = r\"H:\\test_data\\input\\meb\\m1.txt\"\n",
    "sta = meb.read_stadata_from_micaps1_2_8(filename,meb.m1_element_column.温度,station=station,time = datetime.datetime(2019,1,1,8,0)) \n",
    "# meb.m1_element_column.温度 是micaps1文件中温度所对应的列序号\n",
    "print(sta)"
   ]
  },
  {
   "cell_type": "code",
   "execution_count": 8,
   "metadata": {},
   "outputs": [
    {
     "name": "stdout",
     "output_type": "stream",
     "text": [
      "     level                time  dtime     id     lon    lat   data0\n",
      "0      850 2020-01-01 08:00:00      0   1028   19.00  74.50   -13.0\n",
      "1      850 2020-01-01 08:00:00      0   1241    9.61  63.71    -4.0\n",
      "2      850 2020-01-01 08:00:00      0   1415    5.66  58.87    -3.0\n",
      "3      850 2020-01-01 08:00:00      0   2365   17.43  62.52    -3.0\n",
      "4      850 2020-01-01 08:00:00      0   2527   12.28  57.65     1.0\n",
      "..     ...                 ...    ...    ...     ...    ...     ...\n",
      "426    850 2020-01-01 08:00:00      0  98444  123.72  13.15  9999.0\n",
      "427    850 2020-01-01 08:00:00      0  98618  118.75   9.73  9999.0\n",
      "428    850 2020-01-01 08:00:00      0  98646  123.97  10.32  9999.0\n",
      "429    850 2020-01-01 08:00:00      0  98753  125.65   7.12  9999.0\n",
      "430    850 2020-01-01 08:00:00      0      0    0.00   0.00     0.0\n",
      "\n",
      "[431 rows x 7 columns]\n"
     ]
    }
   ],
   "source": [
    "filename = r\"H:\\test_data\\input\\meb\\m2.txt\"\n",
    "sta = meb.read_stadata_from_micaps1_2_8(filename,meb.m2_element_column.温度) \n",
    "\n",
    "# meb.m1_element_column.温度 是micaps2文件中温度所对应的列序号\n",
    "print(sta)"
   ]
  },
  {
   "cell_type": "code",
   "execution_count": 9,
   "metadata": {},
   "outputs": [
    {
     "name": "stdout",
     "output_type": "stream",
     "text": [
      "      level                time  dtime     id     lon    lat  data0\n",
      "0         0 2020-01-02 20:00:00     24  57661  111.48  28.92    7.0\n",
      "1         0 2020-01-02 20:00:00     24  57662  111.68  29.05    6.0\n",
      "2         0 2020-01-02 20:00:00     24  57663  111.95  28.92    7.0\n",
      "3         0 2020-01-02 20:00:00     24  57673  112.88  28.68    6.0\n",
      "4         0 2020-01-02 20:00:00     24  57680  113.07  28.80    7.0\n",
      "...     ...                 ...    ...    ...     ...    ...    ...\n",
      "2391      0 2020-01-02 20:00:00     24  50956  126.58  45.88  -13.0\n",
      "2392      0 2020-01-02 20:00:00     24  50958  126.95  45.52  -12.0\n",
      "2393      0 2020-01-02 20:00:00     24  50968  127.97  45.22  -12.0\n",
      "2394      0 2020-01-02 20:00:00     24  50867  127.35  46.08  -13.0\n",
      "2395      0 2020-01-02 20:00:00     24  50468  127.45  50.25  -11.0\n",
      "\n",
      "[2396 rows x 7 columns]\n"
     ]
    }
   ],
   "source": [
    "filename = r\"H:\\test_data\\input\\meb\\m8.txt\"\n",
    "sta = meb.read_stadata_from_micaps1_2_8(filename,meb.m8_element_column.最高温度) \n",
    "# meb.m1_element_column.温度 是micaps8文件中温度所对应的列序号\n",
    "print(sta)"
   ]
  },
  {
   "cell_type": "markdown",
   "metadata": {},
   "source": [
    "### 读取GDS的服务器ip和端口信息\n",
    "**read_gds_ip_port(filename):** \n",
    "读取gds文件的服务器ip和端口信息  \n",
    "  \n",
    "**参数说明：** \n",
    " **filename**: 存储ip和port的文件路径  \n",
    "  其中filename文件内容如：  \n",
    "    [CIMISS]  \n",
    "    DNS = 10.10.22.11  \n",
    "    USER_ID = XXXXXXXX  \n",
    "    PASSWORD = XXXXXXX  \n",
    "       \n",
    "    [MICAPS]  \n",
    "    GDS_IP = 10.20.65.64  \n",
    "    GDS_PORT = 8080  \n",
    " **return**：返回 ip 和port\n",
    "\n",
    "\n",
    "\n",
    "### 读取GDS数据\n",
    "**read_stadata_from_gds(ip,port,filename,element_id = None,station = None,level=None,time=None, dtime=None, data_name='data0'):**  \n",
    "从micaps服务器中读取站点数据  \n",
    "\n",
    "**参数说明：**  \n",
    " **ip** : 服务器地址   \n",
    " **port**:服务器端口  \n",
    " **filename**:  数据在服务器中的文件路径   \n",
    " **column**:  读取数据中的第column列作为返回站点数据的内容    \n",
    " **station**:  [站点数据](https://www.showdoc.cc/meteva?page_id=3975600580125986)， 从文件读取到数据后，会按station变量里的站点顺序重新排列，文件中存在而station里不存在的站点将被删除，station里存在但文件中不存在的站点上的取值采用station里的原始值， id,lon,lat,alt共4个列的数据会采用station里的值    \n",
    " **level**: 层次，如果该参数不为None，返回的站点数据中level列设置为该参数值，否则根据文件内容设置     \n",
    " **time**: 时间，如果该参数不为None，返回的站点数据中time列设置为该参数值，否则根据文件内容设置      \n",
    " **dtime**: 时效，如果该参数不为None，返回的站点数据中dtime列设置为该参数值，否则设0  \n",
    " **data_name** : 返回的站点数据的数据列的名称将设置为data_name  \n",
    " **drop_same_id**: 在一些文件中，有些站号的id是相同的，默认情况下仅保留1个站点的结果，如果drop_same_id = False时则会全部保留。  \n",
    " **return**: [站点数据](https://www.showdoc.cc/meteva?page_id=3975600580125986)  \n",
    "\n",
    "\n",
    "**调用示例**"
   ]
  },
  {
   "cell_type": "code",
   "execution_count": 10,
   "metadata": {},
   "outputs": [
    {
     "name": "stdout",
     "output_type": "stream",
     "text": [
      "要素ID：1401\n",
      "      level                time  dtime     id         lon        lat  data0\n",
      "0       0.0 2020-07-20 22:00:00      0  57345  109.616699  31.400000   10.0\n",
      "1       0.0 2020-07-20 22:00:00      0  57348  109.483299  31.033300   10.0\n",
      "2       0.0 2020-07-20 22:00:00      0  57349  109.866699  31.083300   10.0\n",
      "3       0.0 2020-07-20 22:00:00      0  57355  110.349998  31.048300    9.0\n",
      "4       0.0 2020-07-20 22:00:00      0  57358  110.966698  30.833300   10.0\n",
      "...     ...                 ...    ...    ...         ...        ...    ...\n",
      "2437    0.0 2020-07-20 22:00:00      0  57329  107.849998  31.100000   10.0\n",
      "2438    0.0 2020-07-20 22:00:00      0  57333  108.666702  31.950001    9.0\n",
      "2439    0.0 2020-07-20 22:00:00      0  57338  108.416702  31.183300    9.0\n",
      "2440    0.0 2020-07-20 22:00:00      0  57339  108.683296  30.950001   10.0\n",
      "2441    0.0 2020-07-20 22:00:00      0  57343  109.533302  31.900000    9.0\n",
      "\n",
      "[2442 rows x 7 columns]\n"
     ]
    }
   ],
   "source": [
    "ip,port = meb.read_gds_ip_port( r\"H:\\test_data\\input\\meb\\ip_port.txt\")\n",
    "print(\"要素ID：\"+ str(meb.gds_element_id.总云量))\n",
    "sta = meb.read_stadata_from_gds(ip,port,\"SURFACE/PLOT_NATIONAL_1H/20200720220000.000\",element_id = meb.gds_element_id.总云量,show = True)\n",
    "print(sta)"
   ]
  },
  {
   "cell_type": "markdown",
   "metadata": {},
   "source": [
    "### 读取精细化城镇预报数据\n",
    "**read_stadata_from_sevp(filename,element_id,level=None,time=None, data_name='data0'):**  \n",
    "从sevp格式数据中读取站点数据  \n",
    "\n",
    "**参数说明：**  \n",
    " **filename**: 数据文件名   \n",
    " **element_id**:  读取数据中的第element_id列作为返回站点数据的内容       \n",
    " **level**: 层次，如果该参数不为None，返回的站点数据中level列设置为该参数值，否则位置为0  \n",
    " **time**: 时间，如果该参数不为None，返回的站点数据中time列设置为该参数值，否则根据文件内容设置      \n",
    " **data_name** : 返回的站点数据的数据列的名称将设置为data_name  \n",
    " **return**: [站点数据](https://www.showdoc.cc/meteva?page_id=3975600580125986)  \n",
    "\n",
    "\n",
    "**调用示例**"
   ]
  },
  {
   "cell_type": "code",
   "execution_count": 11,
   "metadata": {},
   "outputs": [
    {
     "name": "stdout",
     "output_type": "stream",
     "text": [
      "      level       time dtime     id     lon   lat      data0\n",
      "0         0 2019-06-28     3  10141   10.04  50.0  16.500000\n",
      "1         0 2019-06-28     6  10141   10.04  50.0  19.400000\n",
      "2         0 2019-06-28     9  10141   10.04  50.0  25.100000\n",
      "3         0 2019-06-28     3  10147    9.00  53.0  13.000000\n",
      "4         0 2019-06-28     6  10147    9.00  53.0  17.000000\n",
      "...     ...        ...   ...    ...     ...   ...        ...\n",
      "5654      0 2019-06-28   120  98429  121.00  14.0  29.600000\n",
      "5655      0 2019-06-28   132  98429  121.00  14.0  29.299999\n",
      "5656      0 2019-06-28   144  98429  121.00  14.0  29.000000\n",
      "5657      0 2019-06-28   156  98429  121.00  14.0  29.299999\n",
      "5658      0 2019-06-28   168  98429  121.00  14.0  30.000000\n",
      "\n",
      "[5659 rows x 7 columns]\n"
     ]
    }
   ],
   "source": [
    "filename = r\"H:\\test_data\\input\\meb\\sevp.txt\"\n",
    "element_id = meb.sevp_element_id.温度    #sevp文件中温度要素的id\n",
    "sta = meb.read_stadata_from_sevp(filename,element_id)\n",
    "print(sta)"
   ]
  },
  {
   "cell_type": "code",
   "execution_count": 12,
   "metadata": {},
   "outputs": [
    {
     "name": "stdout",
     "output_type": "stream",
     "text": [
      "      level                time dtime     id     lon   lat     temper\n",
      "0       850 2019-01-01 08:00:00     3  10141   10.04  50.0  16.500000\n",
      "1       850 2019-01-01 08:00:00     6  10141   10.04  50.0  19.400000\n",
      "2       850 2019-01-01 08:00:00     9  10141   10.04  50.0  25.100000\n",
      "3       850 2019-01-01 08:00:00     3  10147    9.00  53.0  13.000000\n",
      "4       850 2019-01-01 08:00:00     6  10147    9.00  53.0  17.000000\n",
      "...     ...                 ...   ...    ...     ...   ...        ...\n",
      "5654    850 2019-01-01 08:00:00   120  98429  121.00  14.0  29.600000\n",
      "5655    850 2019-01-01 08:00:00   132  98429  121.00  14.0  29.299999\n",
      "5656    850 2019-01-01 08:00:00   144  98429  121.00  14.0  29.000000\n",
      "5657    850 2019-01-01 08:00:00   156  98429  121.00  14.0  29.299999\n",
      "5658    850 2019-01-01 08:00:00   168  98429  121.00  14.0  30.000000\n",
      "\n",
      "[5659 rows x 7 columns]\n"
     ]
    }
   ],
   "source": [
    "filename = r\"H:\\test_data\\input\\meb\\sevp.txt\"\n",
    "sta = meb.read_stadata_from_sevp(filename,element_id,level = 850,time = datetime.datetime(2019,1,1,8,0),data_name = \"temper\")\n",
    "print(sta)"
   ]
  },
  {
   "cell_type": "code",
   "execution_count": null,
   "metadata": {},
   "outputs": [],
   "source": []
  }
 ],
 "metadata": {
  "kernelspec": {
   "display_name": "Python 3",
   "language": "python",
   "name": "python3"
  },
  "language_info": {
   "codemirror_mode": {
    "name": "ipython",
    "version": 3
   },
   "file_extension": ".py",
   "mimetype": "text/x-python",
   "name": "python",
   "nbconvert_exporter": "python",
   "pygments_lexer": "ipython3",
   "version": "3.7.6"
  }
 },
 "nbformat": 4,
 "nbformat_minor": 2
}
